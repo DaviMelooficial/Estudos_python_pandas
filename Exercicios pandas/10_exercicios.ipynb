{
 "cells": [
  {
   "cell_type": "markdown",
   "id": "4c5b1bbb-f774-4237-a418-a64dc762f297",
   "metadata": {},
   "source": [
    "### Crie uma Series que contenha os dias da semana como índices e valores de 1 a 7. Em seguida, extraia o valor correspondente a \"quarta-feira\" usando o índice."
   ]
  },
  {
   "cell_type": "code",
   "execution_count": 3,
   "id": "ed37dba3-bff9-47a9-a017-af0fa7c866d3",
   "metadata": {},
   "outputs": [],
   "source": [
    "import pandas as pd\n",
    "from numpy.random import randn, randint\n",
    "import datetime"
   ]
  },
  {
   "cell_type": "code",
   "execution_count": 5,
   "id": "c7d67066-0f27-4a42-8541-3348bc490e3f",
   "metadata": {},
   "outputs": [
    {
     "data": {
      "text/plain": [
       "3"
      ]
     },
     "execution_count": 5,
     "metadata": {},
     "output_type": "execute_result"
    }
   ],
   "source": [
    "lista_01 = [1, 2, 3, 4, 5, 6, 7]\n",
    "serie_dias = pd.Series(lista_01, index=\"seg ter qua qui sex sab dom\".split())\n",
    "serie_dias.loc[\"qua\"]"
   ]
  },
  {
   "cell_type": "markdown",
   "id": "f8c04fcb-bb23-4e4b-a498-48a4da2a5e0a",
   "metadata": {},
   "source": [
    "### Crie um DataFrame com dados de vendas de uma loja, onde as colunas são Produto, Quantidade e Preço. Filtre o DataFrame para mostrar apenas os produtos com preço superior a R$ 50."
   ]
  },
  {
   "cell_type": "code",
   "execution_count": 8,
   "id": "acb57072-bb5b-40d5-8338-8dc9855642fe",
   "metadata": {},
   "outputs": [
    {
     "data": {
      "text/html": [
       "<div>\n",
       "<style scoped>\n",
       "    .dataframe tbody tr th:only-of-type {\n",
       "        vertical-align: middle;\n",
       "    }\n",
       "\n",
       "    .dataframe tbody tr th {\n",
       "        vertical-align: top;\n",
       "    }\n",
       "\n",
       "    .dataframe thead th {\n",
       "        text-align: right;\n",
       "    }\n",
       "</style>\n",
       "<table border=\"1\" class=\"dataframe\">\n",
       "  <thead>\n",
       "    <tr style=\"text-align: right;\">\n",
       "      <th></th>\n",
       "      <th>Produto</th>\n",
       "      <th>quantidade</th>\n",
       "      <th>preço</th>\n",
       "    </tr>\n",
       "  </thead>\n",
       "  <tbody>\n",
       "    <tr>\n",
       "      <th>A</th>\n",
       "      <td>0.819881</td>\n",
       "      <td>-0.653556</td>\n",
       "      <td>-0.767726</td>\n",
       "    </tr>\n",
       "    <tr>\n",
       "      <th>B</th>\n",
       "      <td>3.217620</td>\n",
       "      <td>0.659460</td>\n",
       "      <td>0.684845</td>\n",
       "    </tr>\n",
       "    <tr>\n",
       "      <th>C</th>\n",
       "      <td>0.656544</td>\n",
       "      <td>0.271882</td>\n",
       "      <td>-0.375339</td>\n",
       "    </tr>\n",
       "  </tbody>\n",
       "</table>\n",
       "</div>"
      ],
      "text/plain": [
       "    Produto  quantidade     preço\n",
       "A  0.819881   -0.653556 -0.767726\n",
       "B  3.217620    0.659460  0.684845\n",
       "C  0.656544    0.271882 -0.375339"
      ]
     },
     "execution_count": 8,
     "metadata": {},
     "output_type": "execute_result"
    }
   ],
   "source": [
    "df_00 = pd.DataFrame(randn(3,3),index= \"A B C\".split(),columns=\"Produto quantidade preço\".split())\n",
    "df_00"
   ]
  },
  {
   "cell_type": "code",
   "execution_count": 10,
   "id": "7153565b-e39a-4e91-8748-f957c78ca01a",
   "metadata": {},
   "outputs": [
    {
     "data": {
      "text/html": [
       "<div>\n",
       "<style scoped>\n",
       "    .dataframe tbody tr th:only-of-type {\n",
       "        vertical-align: middle;\n",
       "    }\n",
       "\n",
       "    .dataframe tbody tr th {\n",
       "        vertical-align: top;\n",
       "    }\n",
       "\n",
       "    .dataframe thead th {\n",
       "        text-align: right;\n",
       "    }\n",
       "</style>\n",
       "<table border=\"1\" class=\"dataframe\">\n",
       "  <thead>\n",
       "    <tr style=\"text-align: right;\">\n",
       "      <th></th>\n",
       "      <th>Produto</th>\n",
       "      <th>quantidade</th>\n",
       "      <th>preço</th>\n",
       "    </tr>\n",
       "  </thead>\n",
       "  <tbody>\n",
       "    <tr>\n",
       "      <th>B</th>\n",
       "      <td>3.21762</td>\n",
       "      <td>0.65946</td>\n",
       "      <td>0.684845</td>\n",
       "    </tr>\n",
       "  </tbody>\n",
       "</table>\n",
       "</div>"
      ],
      "text/plain": [
       "   Produto  quantidade     preço\n",
       "B  3.21762     0.65946  0.684845"
      ]
     },
     "execution_count": 10,
     "metadata": {},
     "output_type": "execute_result"
    }
   ],
   "source": [
    "maisq_0 = df_00[df_00[\"preço\"] > 0]\n",
    "maisq_0"
   ]
  },
  {
   "cell_type": "markdown",
   "id": "bce03d9a-2279-4a5f-9429-31ac1044cef4",
   "metadata": {},
   "source": [
    "### Crie um DataFrame com as colunas Nome, Idade e Cidade. Adicione uma nova coluna Ano de Nascimento calculada a partir da idade."
   ]
  },
  {
   "cell_type": "code",
   "execution_count": 13,
   "id": "62540601-eb5e-47a1-8a52-387f4df40007",
   "metadata": {},
   "outputs": [
    {
     "data": {
      "text/html": [
       "<div>\n",
       "<style scoped>\n",
       "    .dataframe tbody tr th:only-of-type {\n",
       "        vertical-align: middle;\n",
       "    }\n",
       "\n",
       "    .dataframe tbody tr th {\n",
       "        vertical-align: top;\n",
       "    }\n",
       "\n",
       "    .dataframe thead th {\n",
       "        text-align: right;\n",
       "    }\n",
       "</style>\n",
       "<table border=\"1\" class=\"dataframe\">\n",
       "  <thead>\n",
       "    <tr style=\"text-align: right;\">\n",
       "      <th></th>\n",
       "      <th>nome</th>\n",
       "      <th>idade</th>\n",
       "      <th>cidade</th>\n",
       "      <th>ano de nascimento</th>\n",
       "    </tr>\n",
       "  </thead>\n",
       "  <tbody>\n",
       "    <tr>\n",
       "      <th>0</th>\n",
       "      <td>Davi</td>\n",
       "      <td>21</td>\n",
       "      <td>Recife</td>\n",
       "      <td>2003</td>\n",
       "    </tr>\n",
       "    <tr>\n",
       "      <th>1</th>\n",
       "      <td>Rafael</td>\n",
       "      <td>33</td>\n",
       "      <td>São Paulo</td>\n",
       "      <td>1991</td>\n",
       "    </tr>\n",
       "    <tr>\n",
       "      <th>2</th>\n",
       "      <td>Pedro</td>\n",
       "      <td>26</td>\n",
       "      <td>Rio grande do sul</td>\n",
       "      <td>1998</td>\n",
       "    </tr>\n",
       "  </tbody>\n",
       "</table>\n",
       "</div>"
      ],
      "text/plain": [
       "     nome  idade             cidade  ano de nascimento\n",
       "0    Davi     21             Recife               2003\n",
       "1  Rafael     33          São Paulo               1991\n",
       "2   Pedro     26  Rio grande do sul               1998"
      ]
     },
     "execution_count": 13,
     "metadata": {},
     "output_type": "execute_result"
    }
   ],
   "source": [
    "list_nome = [\"Davi\",\"Rafael\",\"Pedro\"]\n",
    "list_idade = [21, 33, 26]\n",
    "list_cidade = [\"Recife\",\"São Paulo\",\"Rio grande do sul\"]\n",
    "data = datetime.datetime.now()\n",
    "ano = data.year\n",
    "\n",
    "df_01 = pd.DataFrame(columns=\"nome idade cidade\".split())\n",
    "df_01[\"nome\"] = list_nome\n",
    "df_01[\"idade\"] = list_idade\n",
    "df_01[\"cidade\"] = list_cidade\n",
    "df_01[\"ano de nascimento\"] = [ano - i for i in list_idade]\n",
    "df_01"
   ]
  },
  {
   "cell_type": "markdown",
   "id": "51857c63-aae7-44ac-8d71-676a3d9b0b7b",
   "metadata": {},
   "source": [
    "### Crie um DataFrame com múltiplos níveis de índice, representando diferentes regiões e cidades. Filtre os dados para uma região específica e ordene-os por cidade."
   ]
  },
  {
   "cell_type": "code",
   "execution_count": 29,
   "id": "278ae5d5-a257-4ff0-8293-d1011e7aed24",
   "metadata": {},
   "outputs": [
    {
     "data": {
      "text/plain": [
       "MultiIndex([('Nordeste',            'Recife'),\n",
       "            ('Nordeste',        'Camaragibe'),\n",
       "            ('Nordeste',           'Caruaru'),\n",
       "            ( 'Sudeste',         'São Paulo'),\n",
       "            (     'sul', 'Rio grande do sul')],\n",
       "           )"
      ]
     },
     "execution_count": 29,
     "metadata": {},
     "output_type": "execute_result"
    }
   ],
   "source": [
    "outside = [\"Nordeste\",\"Nordeste\",\"Nordeste\", \"Sudeste\", \"sul\"] \n",
    "inside = [\"Recife\",\"Camaragibe\",\"Caruaru\",\"São Paulo\",\"Rio grande do sul\"]\n",
    "hier = list(zip(outside,inside))\n",
    "hier = pd.MultiIndex.from_tuples(hier)\n",
    "hier"
   ]
  },
  {
   "cell_type": "code",
   "execution_count": 31,
   "id": "952f456b-21f0-401d-9a9f-7ff1baebfc0f",
   "metadata": {},
   "outputs": [
    {
     "data": {
      "text/html": [
       "<div>\n",
       "<style scoped>\n",
       "    .dataframe tbody tr th:only-of-type {\n",
       "        vertical-align: middle;\n",
       "    }\n",
       "\n",
       "    .dataframe tbody tr th {\n",
       "        vertical-align: top;\n",
       "    }\n",
       "\n",
       "    .dataframe thead th {\n",
       "        text-align: right;\n",
       "    }\n",
       "</style>\n",
       "<table border=\"1\" class=\"dataframe\">\n",
       "  <thead>\n",
       "    <tr style=\"text-align: right;\">\n",
       "      <th></th>\n",
       "      <th></th>\n",
       "      <th>Faturamento</th>\n",
       "    </tr>\n",
       "    <tr>\n",
       "      <th>Região</th>\n",
       "      <th>Cidade</th>\n",
       "      <th></th>\n",
       "    </tr>\n",
       "  </thead>\n",
       "  <tbody>\n",
       "    <tr>\n",
       "      <th rowspan=\"3\" valign=\"top\">Nordeste</th>\n",
       "      <th>Recife</th>\n",
       "      <td>10000</td>\n",
       "    </tr>\n",
       "    <tr>\n",
       "      <th>Camaragibe</th>\n",
       "      <td>3200</td>\n",
       "    </tr>\n",
       "    <tr>\n",
       "      <th>Caruaru</th>\n",
       "      <td>9700</td>\n",
       "    </tr>\n",
       "    <tr>\n",
       "      <th>Sudeste</th>\n",
       "      <th>São Paulo</th>\n",
       "      <td>6000</td>\n",
       "    </tr>\n",
       "    <tr>\n",
       "      <th>sul</th>\n",
       "      <th>Rio grande do sul</th>\n",
       "      <td>900</td>\n",
       "    </tr>\n",
       "  </tbody>\n",
       "</table>\n",
       "</div>"
      ],
      "text/plain": [
       "                            Faturamento\n",
       "Região   Cidade                        \n",
       "Nordeste Recife                   10000\n",
       "         Camaragibe                3200\n",
       "         Caruaru                   9700\n",
       "Sudeste  São Paulo                 6000\n",
       "sul      Rio grande do sul          900"
      ]
     },
     "execution_count": 31,
     "metadata": {},
     "output_type": "execute_result"
    }
   ],
   "source": [
    "df_02 = pd.DataFrame(index=hier, columns=\"Faturamento\".split())\n",
    "df_02[\"Faturamento\"] = [10000, 3200, 9700, 6000, 900]\n",
    "df_02.index.names = [\"Região\", \"Cidade\"]\n",
    "df_02"
   ]
  },
  {
   "cell_type": "code",
   "execution_count": 55,
   "id": "08fc847e-09d3-472b-bccc-69edc5c1e3d6",
   "metadata": {},
   "outputs": [
    {
     "data": {
      "text/html": [
       "<div>\n",
       "<style scoped>\n",
       "    .dataframe tbody tr th:only-of-type {\n",
       "        vertical-align: middle;\n",
       "    }\n",
       "\n",
       "    .dataframe tbody tr th {\n",
       "        vertical-align: top;\n",
       "    }\n",
       "\n",
       "    .dataframe thead th {\n",
       "        text-align: right;\n",
       "    }\n",
       "</style>\n",
       "<table border=\"1\" class=\"dataframe\">\n",
       "  <thead>\n",
       "    <tr style=\"text-align: right;\">\n",
       "      <th></th>\n",
       "      <th>Faturamento</th>\n",
       "    </tr>\n",
       "    <tr>\n",
       "      <th>Cidade</th>\n",
       "      <th></th>\n",
       "    </tr>\n",
       "  </thead>\n",
       "  <tbody>\n",
       "    <tr>\n",
       "      <th>Camaragibe</th>\n",
       "      <td>3200</td>\n",
       "    </tr>\n",
       "    <tr>\n",
       "      <th>Caruaru</th>\n",
       "      <td>9700</td>\n",
       "    </tr>\n",
       "    <tr>\n",
       "      <th>Recife</th>\n",
       "      <td>10000</td>\n",
       "    </tr>\n",
       "  </tbody>\n",
       "</table>\n",
       "</div>"
      ],
      "text/plain": [
       "            Faturamento\n",
       "Cidade                 \n",
       "Camaragibe         3200\n",
       "Caruaru            9700\n",
       "Recife            10000"
      ]
     },
     "execution_count": 55,
     "metadata": {},
     "output_type": "execute_result"
    }
   ],
   "source": [
    "df_02.loc[\"Nordeste\"].sort_values(by=\"Cidade\")"
   ]
  },
  {
   "cell_type": "markdown",
   "id": "072a6384-6167-4899-a749-e879f1ab85fa",
   "metadata": {},
   "source": [
    "### Crie duas Series com 5 elementos numéricos cada uma. Realize operações matemáticas básicas entre essas Series (adição, subtração, multiplicação e divisão)."
   ]
  },
  {
   "cell_type": "code",
   "execution_count": 100,
   "id": "fd9d6df5-a1f9-4d72-a8d9-0f51bfa0275e",
   "metadata": {},
   "outputs": [
    {
     "data": {
      "text/plain": [
       "0                        8\n",
       "1                        4\n",
       "2                      135\n",
       "3                 1.666667\n",
       "4    931322574615478515625\n",
       "dtype: object"
      ]
     },
     "execution_count": 100,
     "metadata": {},
     "output_type": "execute_result"
    }
   ],
   "source": [
    "numbers_01 = [5, 10, 15, 20, 25]\n",
    "numbers_02 = [3, 6, 9, 12, 15]\n",
    "numbers_mix = []\n",
    "serie_01 = pd.Series(numbers_01)\n",
    "serie_02 = pd.Series(numbers_02)\n",
    "\n",
    "serie_03 = pd.Series([numbers_01[0]+numbers_02[0],numbers_01[1]-numbers_02[1],numbers_01[2]*numbers_02[2],numbers_01[3]/numbers_02[3],numbers_01[4]**numbers_02[4]])\n",
    "serie_03"
   ]
  },
  {
   "cell_type": "markdown",
   "id": "a88a47e2-2731-4d48-a2ce-93201e59fd27",
   "metadata": {},
   "source": [
    "### Dado um DataFrame com dados de estudantes (Nome, Nota, Curso), use o iloc para selecionar a segunda e quarta linhas e todas as colunas, exibindo os resultados."
   ]
  },
  {
   "cell_type": "code",
   "execution_count": 113,
   "id": "a56b9896-a591-4fde-b771-ce1038257eb1",
   "metadata": {},
   "outputs": [
    {
     "data": {
      "text/html": [
       "<div>\n",
       "<style scoped>\n",
       "    .dataframe tbody tr th:only-of-type {\n",
       "        vertical-align: middle;\n",
       "    }\n",
       "\n",
       "    .dataframe tbody tr th {\n",
       "        vertical-align: top;\n",
       "    }\n",
       "\n",
       "    .dataframe thead tr th {\n",
       "        text-align: left;\n",
       "    }\n",
       "</style>\n",
       "<table border=\"1\" class=\"dataframe\">\n",
       "  <thead>\n",
       "    <tr>\n",
       "      <th></th>\n",
       "      <th>Nome</th>\n",
       "      <th>Nota</th>\n",
       "      <th>Curso</th>\n",
       "    </tr>\n",
       "  </thead>\n",
       "  <tbody>\n",
       "    <tr>\n",
       "      <th>0</th>\n",
       "      <td>Davi</td>\n",
       "      <td>10</td>\n",
       "      <td>ADS</td>\n",
       "    </tr>\n",
       "    <tr>\n",
       "      <th>1</th>\n",
       "      <td>Rafael</td>\n",
       "      <td>7</td>\n",
       "      <td>SI</td>\n",
       "    </tr>\n",
       "    <tr>\n",
       "      <th>2</th>\n",
       "      <td>Geovane</td>\n",
       "      <td>5</td>\n",
       "      <td>ENGENHARIA</td>\n",
       "    </tr>\n",
       "    <tr>\n",
       "      <th>3</th>\n",
       "      <td>Silas</td>\n",
       "      <td>7</td>\n",
       "      <td>FILOSOFIA</td>\n",
       "    </tr>\n",
       "    <tr>\n",
       "      <th>4</th>\n",
       "      <td>Roger</td>\n",
       "      <td>9</td>\n",
       "      <td>ADS</td>\n",
       "    </tr>\n",
       "  </tbody>\n",
       "</table>\n",
       "</div>"
      ],
      "text/plain": [
       "      Nome Nota       Curso\n",
       "0     Davi   10         ADS\n",
       "1   Rafael    7          SI\n",
       "2  Geovane    5  ENGENHARIA\n",
       "3    Silas    7   FILOSOFIA\n",
       "4    Roger    9         ADS"
      ]
     },
     "execution_count": 113,
     "metadata": {},
     "output_type": "execute_result"
    }
   ],
   "source": [
    "alunos = [\"Davi\",\"Rafael\",\"Geovane\",\"Silas\",\"Roger\"]\n",
    "Notas = [10,7,5,7,9]\n",
    "curso = [\"ADS\",\"SI\",\"ENGENHARIA\",\"FILOSOFIA\",\"ADS\",]\n",
    "colunas = [\"Nome\",\"Nota\",\"Curso\"]\n",
    "df_03 = pd.DataFrame(columns=[colunas])\n",
    "df_03[\"Nome\"] = alunos\n",
    "df_03[\"Nota\"] = Notas\n",
    "df_03[\"Curso\"] = curso\n",
    "df_03"
   ]
  },
  {
   "cell_type": "code",
   "execution_count": 135,
   "id": "72412c47-3579-4f93-ac84-d35953a92002",
   "metadata": {},
   "outputs": [
    {
     "data": {
      "text/html": [
       "<div>\n",
       "<style scoped>\n",
       "    .dataframe tbody tr th:only-of-type {\n",
       "        vertical-align: middle;\n",
       "    }\n",
       "\n",
       "    .dataframe tbody tr th {\n",
       "        vertical-align: top;\n",
       "    }\n",
       "\n",
       "    .dataframe thead tr th {\n",
       "        text-align: left;\n",
       "    }\n",
       "</style>\n",
       "<table border=\"1\" class=\"dataframe\">\n",
       "  <thead>\n",
       "    <tr>\n",
       "      <th></th>\n",
       "      <th>Nome</th>\n",
       "      <th>Nota</th>\n",
       "      <th>Curso</th>\n",
       "    </tr>\n",
       "  </thead>\n",
       "  <tbody>\n",
       "    <tr>\n",
       "      <th>2</th>\n",
       "      <td>Geovane</td>\n",
       "      <td>5</td>\n",
       "      <td>ENGENHARIA</td>\n",
       "    </tr>\n",
       "    <tr>\n",
       "      <th>4</th>\n",
       "      <td>Roger</td>\n",
       "      <td>9</td>\n",
       "      <td>ADS</td>\n",
       "    </tr>\n",
       "  </tbody>\n",
       "</table>\n",
       "</div>"
      ],
      "text/plain": [
       "      Nome Nota       Curso\n",
       "2  Geovane    5  ENGENHARIA\n",
       "4    Roger    9         ADS"
      ]
     },
     "execution_count": 135,
     "metadata": {},
     "output_type": "execute_result"
    }
   ],
   "source": [
    "df_03.iloc[[2,4]]"
   ]
  }
 ],
 "metadata": {
  "kernelspec": {
   "display_name": "Python 3 (ipykernel)",
   "language": "python",
   "name": "python3"
  },
  "language_info": {
   "codemirror_mode": {
    "name": "ipython",
    "version": 3
   },
   "file_extension": ".py",
   "mimetype": "text/x-python",
   "name": "python",
   "nbconvert_exporter": "python",
   "pygments_lexer": "ipython3",
   "version": "3.12.4"
  }
 },
 "nbformat": 4,
 "nbformat_minor": 5
}
