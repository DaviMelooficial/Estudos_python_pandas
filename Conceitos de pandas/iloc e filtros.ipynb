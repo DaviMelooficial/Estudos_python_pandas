{
 "cells": [
  {
   "cell_type": "markdown",
   "id": "727db2ef-d06f-4ffd-9e0b-366621261dd6",
   "metadata": {},
   "source": [
    "## O iloc serve para acessar linhas de um DataFrame e é pode ser utilizado em conjunto com filtros"
   ]
  },
  {
   "cell_type": "code",
   "execution_count": 5,
   "id": "db1e8ea0-1e72-456b-b7b0-b569693dc952",
   "metadata": {},
   "outputs": [],
   "source": [
    "import pandas as pd\n",
    "from numpy.random import randn"
   ]
  },
  {
   "cell_type": "code",
   "execution_count": 14,
   "id": "d6456f2b-b1fe-44b5-8214-01d64ea0997a",
   "metadata": {},
   "outputs": [],
   "source": [
    "df = pd.DataFrame(randn(5,4), ['A','B','C','D','E'], columns= 'W X Y Z'.split())"
   ]
  },
  {
   "cell_type": "code",
   "execution_count": 37,
   "id": "eb2351f5-04aa-4e84-8ed4-fb6483f758ad",
   "metadata": {},
   "outputs": [
    {
     "data": {
      "text/html": [
       "<div>\n",
       "<style scoped>\n",
       "    .dataframe tbody tr th:only-of-type {\n",
       "        vertical-align: middle;\n",
       "    }\n",
       "\n",
       "    .dataframe tbody tr th {\n",
       "        vertical-align: top;\n",
       "    }\n",
       "\n",
       "    .dataframe thead th {\n",
       "        text-align: right;\n",
       "    }\n",
       "</style>\n",
       "<table border=\"1\" class=\"dataframe\">\n",
       "  <thead>\n",
       "    <tr style=\"text-align: right;\">\n",
       "      <th></th>\n",
       "      <th>W</th>\n",
       "      <th>X</th>\n",
       "      <th>Y</th>\n",
       "      <th>Z</th>\n",
       "    </tr>\n",
       "  </thead>\n",
       "  <tbody>\n",
       "    <tr>\n",
       "      <th>A</th>\n",
       "      <td>0.859189</td>\n",
       "      <td>1.690392</td>\n",
       "      <td>-0.643008</td>\n",
       "      <td>1.501031</td>\n",
       "    </tr>\n",
       "    <tr>\n",
       "      <th>B</th>\n",
       "      <td>1.123562</td>\n",
       "      <td>0.949900</td>\n",
       "      <td>1.005420</td>\n",
       "      <td>-0.120202</td>\n",
       "    </tr>\n",
       "    <tr>\n",
       "      <th>C</th>\n",
       "      <td>0.727976</td>\n",
       "      <td>1.226092</td>\n",
       "      <td>0.918527</td>\n",
       "      <td>-1.774012</td>\n",
       "    </tr>\n",
       "    <tr>\n",
       "      <th>D</th>\n",
       "      <td>-0.721834</td>\n",
       "      <td>-0.017359</td>\n",
       "      <td>-0.940663</td>\n",
       "      <td>0.816725</td>\n",
       "    </tr>\n",
       "    <tr>\n",
       "      <th>E</th>\n",
       "      <td>0.262255</td>\n",
       "      <td>-0.283993</td>\n",
       "      <td>0.062724</td>\n",
       "      <td>2.807845</td>\n",
       "    </tr>\n",
       "  </tbody>\n",
       "</table>\n",
       "</div>"
      ],
      "text/plain": [
       "          W         X         Y         Z\n",
       "A  0.859189  1.690392 -0.643008  1.501031\n",
       "B  1.123562  0.949900  1.005420 -0.120202\n",
       "C  0.727976  1.226092  0.918527 -1.774012\n",
       "D -0.721834 -0.017359 -0.940663  0.816725\n",
       "E  0.262255 -0.283993  0.062724  2.807845"
      ]
     },
     "execution_count": 37,
     "metadata": {},
     "output_type": "execute_result"
    }
   ],
   "source": [
    "df"
   ]
  },
  {
   "cell_type": "code",
   "execution_count": 31,
   "id": "36ea202b-858f-41c8-a11c-33f5f4eb89ea",
   "metadata": {},
   "outputs": [
    {
     "data": {
      "text/html": [
       "<div>\n",
       "<style scoped>\n",
       "    .dataframe tbody tr th:only-of-type {\n",
       "        vertical-align: middle;\n",
       "    }\n",
       "\n",
       "    .dataframe tbody tr th {\n",
       "        vertical-align: top;\n",
       "    }\n",
       "\n",
       "    .dataframe thead th {\n",
       "        text-align: right;\n",
       "    }\n",
       "</style>\n",
       "<table border=\"1\" class=\"dataframe\">\n",
       "  <thead>\n",
       "    <tr style=\"text-align: right;\">\n",
       "      <th></th>\n",
       "      <th>W</th>\n",
       "    </tr>\n",
       "  </thead>\n",
       "  <tbody>\n",
       "    <tr>\n",
       "      <th>A</th>\n",
       "      <td>0.859189</td>\n",
       "    </tr>\n",
       "    <tr>\n",
       "      <th>B</th>\n",
       "      <td>1.123562</td>\n",
       "    </tr>\n",
       "  </tbody>\n",
       "</table>\n",
       "</div>"
      ],
      "text/plain": [
       "          W\n",
       "A  0.859189\n",
       "B  1.123562"
      ]
     },
     "execution_count": 31,
     "metadata": {},
     "output_type": "execute_result"
    }
   ],
   "source": [
    "df.loc[['A', 'B'], ['W']] # Retornando somente as linhas A e B da coluna W"
   ]
  },
  {
   "cell_type": "markdown",
   "id": "3199f95a-e131-4926-960f-d0b9eeee392d",
   "metadata": {},
   "source": [
    "## iloc utiliza de seleções númericas de linhas e colunas"
   ]
  },
  {
   "cell_type": "code",
   "execution_count": 49,
   "id": "7e7db14d-60c6-4c2c-8bf2-f34d0fc0861b",
   "metadata": {},
   "outputs": [
    {
     "data": {
      "text/plain": [
       "1.0054203923649165"
      ]
     },
     "execution_count": 49,
     "metadata": {},
     "output_type": "execute_result"
    }
   ],
   "source": [
    "df.iloc[1,2] # Ele utiliza [linha, coluna] "
   ]
  },
  {
   "cell_type": "code",
   "execution_count": 53,
   "id": "c132bcbe-ec04-4a8e-ae1a-14255e83a4df",
   "metadata": {},
   "outputs": [
    {
     "data": {
      "text/html": [
       "<div>\n",
       "<style scoped>\n",
       "    .dataframe tbody tr th:only-of-type {\n",
       "        vertical-align: middle;\n",
       "    }\n",
       "\n",
       "    .dataframe tbody tr th {\n",
       "        vertical-align: top;\n",
       "    }\n",
       "\n",
       "    .dataframe thead th {\n",
       "        text-align: right;\n",
       "    }\n",
       "</style>\n",
       "<table border=\"1\" class=\"dataframe\">\n",
       "  <thead>\n",
       "    <tr style=\"text-align: right;\">\n",
       "      <th></th>\n",
       "      <th>X</th>\n",
       "      <th>Y</th>\n",
       "      <th>Z</th>\n",
       "    </tr>\n",
       "  </thead>\n",
       "  <tbody>\n",
       "    <tr>\n",
       "      <th>A</th>\n",
       "      <td>1.690392</td>\n",
       "      <td>-0.643008</td>\n",
       "      <td>1.501031</td>\n",
       "    </tr>\n",
       "    <tr>\n",
       "      <th>B</th>\n",
       "      <td>0.949900</td>\n",
       "      <td>1.005420</td>\n",
       "      <td>-0.120202</td>\n",
       "    </tr>\n",
       "    <tr>\n",
       "      <th>C</th>\n",
       "      <td>1.226092</td>\n",
       "      <td>0.918527</td>\n",
       "      <td>-1.774012</td>\n",
       "    </tr>\n",
       "    <tr>\n",
       "      <th>D</th>\n",
       "      <td>-0.017359</td>\n",
       "      <td>-0.940663</td>\n",
       "      <td>0.816725</td>\n",
       "    </tr>\n",
       "  </tbody>\n",
       "</table>\n",
       "</div>"
      ],
      "text/plain": [
       "          X         Y         Z\n",
       "A  1.690392 -0.643008  1.501031\n",
       "B  0.949900  1.005420 -0.120202\n",
       "C  1.226092  0.918527 -1.774012\n",
       "D -0.017359 -0.940663  0.816725"
      ]
     },
     "execution_count": 53,
     "metadata": {},
     "output_type": "execute_result"
    }
   ],
   "source": [
    "df.iloc[:-1,1:] \n",
    "# Pode-se utilizar de seleções no modelo de strings\n",
    "# Estou exibindo o DataFrame removendo a última linha e a partir da segunda coluna(ignorando a primeira 1:)"
   ]
  },
  {
   "cell_type": "markdown",
   "id": "9a530ecf-a3c6-4a94-b5ca-1d76ff470f21",
   "metadata": {},
   "source": [
    "## Filtros utilizando condições booleanas"
   ]
  },
  {
   "cell_type": "code",
   "execution_count": 58,
   "id": "518cca66-e88b-45ca-9d5c-32fa55515171",
   "metadata": {},
   "outputs": [
    {
     "data": {
      "text/html": [
       "<div>\n",
       "<style scoped>\n",
       "    .dataframe tbody tr th:only-of-type {\n",
       "        vertical-align: middle;\n",
       "    }\n",
       "\n",
       "    .dataframe tbody tr th {\n",
       "        vertical-align: top;\n",
       "    }\n",
       "\n",
       "    .dataframe thead th {\n",
       "        text-align: right;\n",
       "    }\n",
       "</style>\n",
       "<table border=\"1\" class=\"dataframe\">\n",
       "  <thead>\n",
       "    <tr style=\"text-align: right;\">\n",
       "      <th></th>\n",
       "      <th>W</th>\n",
       "      <th>X</th>\n",
       "      <th>Y</th>\n",
       "      <th>Z</th>\n",
       "    </tr>\n",
       "  </thead>\n",
       "  <tbody>\n",
       "    <tr>\n",
       "      <th>A</th>\n",
       "      <td>True</td>\n",
       "      <td>True</td>\n",
       "      <td>False</td>\n",
       "      <td>True</td>\n",
       "    </tr>\n",
       "    <tr>\n",
       "      <th>B</th>\n",
       "      <td>True</td>\n",
       "      <td>True</td>\n",
       "      <td>True</td>\n",
       "      <td>False</td>\n",
       "    </tr>\n",
       "    <tr>\n",
       "      <th>C</th>\n",
       "      <td>True</td>\n",
       "      <td>True</td>\n",
       "      <td>True</td>\n",
       "      <td>False</td>\n",
       "    </tr>\n",
       "    <tr>\n",
       "      <th>D</th>\n",
       "      <td>False</td>\n",
       "      <td>False</td>\n",
       "      <td>False</td>\n",
       "      <td>True</td>\n",
       "    </tr>\n",
       "    <tr>\n",
       "      <th>E</th>\n",
       "      <td>True</td>\n",
       "      <td>False</td>\n",
       "      <td>True</td>\n",
       "      <td>True</td>\n",
       "    </tr>\n",
       "  </tbody>\n",
       "</table>\n",
       "</div>"
      ],
      "text/plain": [
       "       W      X      Y      Z\n",
       "A   True   True  False   True\n",
       "B   True   True   True  False\n",
       "C   True   True   True  False\n",
       "D  False  False  False   True\n",
       "E   True  False   True   True"
      ]
     },
     "execution_count": 58,
     "metadata": {},
     "output_type": "execute_result"
    }
   ],
   "source": [
    "df > 0 # É retornado True para as \"células\" que forem maior do que 0 no DataFrame"
   ]
  },
  {
   "cell_type": "code",
   "execution_count": 83,
   "id": "9680a138-090d-4828-b2db-a6f42d4940bc",
   "metadata": {},
   "outputs": [
    {
     "data": {
      "text/html": [
       "<div>\n",
       "<style scoped>\n",
       "    .dataframe tbody tr th:only-of-type {\n",
       "        vertical-align: middle;\n",
       "    }\n",
       "\n",
       "    .dataframe tbody tr th {\n",
       "        vertical-align: top;\n",
       "    }\n",
       "\n",
       "    .dataframe thead th {\n",
       "        text-align: right;\n",
       "    }\n",
       "</style>\n",
       "<table border=\"1\" class=\"dataframe\">\n",
       "  <thead>\n",
       "    <tr style=\"text-align: right;\">\n",
       "      <th></th>\n",
       "      <th>W</th>\n",
       "      <th>X</th>\n",
       "      <th>Y</th>\n",
       "      <th>Z</th>\n",
       "    </tr>\n",
       "  </thead>\n",
       "  <tbody>\n",
       "    <tr>\n",
       "      <th>A</th>\n",
       "      <td>0.859189</td>\n",
       "      <td>1.690392</td>\n",
       "      <td>NaN</td>\n",
       "      <td>1.501031</td>\n",
       "    </tr>\n",
       "    <tr>\n",
       "      <th>B</th>\n",
       "      <td>1.123562</td>\n",
       "      <td>0.949900</td>\n",
       "      <td>1.005420</td>\n",
       "      <td>NaN</td>\n",
       "    </tr>\n",
       "    <tr>\n",
       "      <th>C</th>\n",
       "      <td>0.727976</td>\n",
       "      <td>1.226092</td>\n",
       "      <td>0.918527</td>\n",
       "      <td>NaN</td>\n",
       "    </tr>\n",
       "    <tr>\n",
       "      <th>D</th>\n",
       "      <td>NaN</td>\n",
       "      <td>NaN</td>\n",
       "      <td>NaN</td>\n",
       "      <td>0.816725</td>\n",
       "    </tr>\n",
       "    <tr>\n",
       "      <th>E</th>\n",
       "      <td>0.262255</td>\n",
       "      <td>NaN</td>\n",
       "      <td>0.062724</td>\n",
       "      <td>2.807845</td>\n",
       "    </tr>\n",
       "  </tbody>\n",
       "</table>\n",
       "</div>"
      ],
      "text/plain": [
       "          W         X         Y         Z\n",
       "A  0.859189  1.690392       NaN  1.501031\n",
       "B  1.123562  0.949900  1.005420       NaN\n",
       "C  0.727976  1.226092  0.918527       NaN\n",
       "D       NaN       NaN       NaN  0.816725\n",
       "E  0.262255       NaN  0.062724  2.807845"
      ]
     },
     "execution_count": 83,
     "metadata": {},
     "output_type": "execute_result"
    }
   ],
   "source": [
    "df[df > 0] \n",
    "# É feita uma comparação para todos os dados do DataFrame se são maiores que zero\n",
    "# E é exibido como DataFrame somente os valores que são True na comparação"
   ]
  },
  {
   "cell_type": "code",
   "execution_count": 93,
   "id": "33dbbd93-7f0b-4c47-bc76-01f4577bcc8c",
   "metadata": {},
   "outputs": [
    {
     "data": {
      "text/html": [
       "<div>\n",
       "<style scoped>\n",
       "    .dataframe tbody tr th:only-of-type {\n",
       "        vertical-align: middle;\n",
       "    }\n",
       "\n",
       "    .dataframe tbody tr th {\n",
       "        vertical-align: top;\n",
       "    }\n",
       "\n",
       "    .dataframe thead th {\n",
       "        text-align: right;\n",
       "    }\n",
       "</style>\n",
       "<table border=\"1\" class=\"dataframe\">\n",
       "  <thead>\n",
       "    <tr style=\"text-align: right;\">\n",
       "      <th></th>\n",
       "      <th>W</th>\n",
       "      <th>X</th>\n",
       "      <th>Y</th>\n",
       "      <th>Z</th>\n",
       "    </tr>\n",
       "  </thead>\n",
       "  <tbody>\n",
       "    <tr>\n",
       "      <th>A</th>\n",
       "      <td>0.859189</td>\n",
       "      <td>1.690392</td>\n",
       "      <td>-0.643008</td>\n",
       "      <td>1.501031</td>\n",
       "    </tr>\n",
       "    <tr>\n",
       "      <th>B</th>\n",
       "      <td>1.123562</td>\n",
       "      <td>0.949900</td>\n",
       "      <td>1.005420</td>\n",
       "      <td>-0.120202</td>\n",
       "    </tr>\n",
       "    <tr>\n",
       "      <th>C</th>\n",
       "      <td>0.727976</td>\n",
       "      <td>1.226092</td>\n",
       "      <td>0.918527</td>\n",
       "      <td>-1.774012</td>\n",
       "    </tr>\n",
       "  </tbody>\n",
       "</table>\n",
       "</div>"
      ],
      "text/plain": [
       "          W         X         Y         Z\n",
       "A  0.859189  1.690392 -0.643008  1.501031\n",
       "B  1.123562  0.949900  1.005420 -0.120202\n",
       "C  0.727976  1.226092  0.918527 -1.774012"
      ]
     },
     "execution_count": 93,
     "metadata": {},
     "output_type": "execute_result"
    }
   ],
   "source": [
    "df[df[\"X\"] > 0] \n",
    "# Foi feito um filtro no DataFrame exibindo somente os valores das colunas onde na coluna X forem maiores que 0"
   ]
  }
 ],
 "metadata": {
  "kernelspec": {
   "display_name": "Python 3 (ipykernel)",
   "language": "python",
   "name": "python3"
  },
  "language_info": {
   "codemirror_mode": {
    "name": "ipython",
    "version": 3
   },
   "file_extension": ".py",
   "mimetype": "text/x-python",
   "name": "python",
   "nbconvert_exporter": "python",
   "pygments_lexer": "ipython3",
   "version": "3.12.4"
  }
 },
 "nbformat": 4,
 "nbformat_minor": 5
}
