{
 "cells": [
  {
   "cell_type": "markdown",
   "id": "c2785dc9-7745-4567-9100-9d905c526fdc",
   "metadata": {},
   "source": [
    "## Diferentes tipos de dados que o pandas consegue ler e escrever"
   ]
  },
  {
   "cell_type": "code",
   "execution_count": 2,
   "id": "176c95bd-f99b-4f01-a2f8-838f5d0bc939",
   "metadata": {},
   "outputs": [],
   "source": [
    "import pandas as pd"
   ]
  },
  {
   "cell_type": "code",
   "execution_count": 10,
   "id": "8a1f2870-a0e7-4d15-99a6-0f3eea0bb5b1",
   "metadata": {},
   "outputs": [],
   "source": [
    "df = pd.read_csv(\"exemplo.csv\", sep=\",\", decimal=\".\") # Lendo um csv e armazenando numa variavel"
   ]
  },
  {
   "cell_type": "code",
   "execution_count": 12,
   "id": "ae8c6212-0cfb-4e04-a78c-b0a07bfdf956",
   "metadata": {},
   "outputs": [
    {
     "data": {
      "text/html": [
       "<div>\n",
       "<style scoped>\n",
       "    .dataframe tbody tr th:only-of-type {\n",
       "        vertical-align: middle;\n",
       "    }\n",
       "\n",
       "    .dataframe tbody tr th {\n",
       "        vertical-align: top;\n",
       "    }\n",
       "\n",
       "    .dataframe thead th {\n",
       "        text-align: right;\n",
       "    }\n",
       "</style>\n",
       "<table border=\"1\" class=\"dataframe\">\n",
       "  <thead>\n",
       "    <tr style=\"text-align: right;\">\n",
       "      <th></th>\n",
       "      <th>0</th>\n",
       "      <th>1</th>\n",
       "      <th>2</th>\n",
       "      <th>3</th>\n",
       "    </tr>\n",
       "  </thead>\n",
       "  <tbody>\n",
       "    <tr>\n",
       "      <th>0</th>\n",
       "      <td>-0.394813</td>\n",
       "      <td>-0.694630</td>\n",
       "      <td>0.253393</td>\n",
       "      <td>0.602590</td>\n",
       "    </tr>\n",
       "    <tr>\n",
       "      <th>1</th>\n",
       "      <td>-2.134217</td>\n",
       "      <td>1.141381</td>\n",
       "      <td>-0.130142</td>\n",
       "      <td>0.690936</td>\n",
       "    </tr>\n",
       "    <tr>\n",
       "      <th>2</th>\n",
       "      <td>-0.223754</td>\n",
       "      <td>0.365133</td>\n",
       "      <td>-0.104233</td>\n",
       "      <td>-0.182788</td>\n",
       "    </tr>\n",
       "    <tr>\n",
       "      <th>3</th>\n",
       "      <td>0.108066</td>\n",
       "      <td>0.331332</td>\n",
       "      <td>0.053708</td>\n",
       "      <td>-0.280468</td>\n",
       "    </tr>\n",
       "    <tr>\n",
       "      <th>4</th>\n",
       "      <td>0.085290</td>\n",
       "      <td>0.740834</td>\n",
       "      <td>-0.596941</td>\n",
       "      <td>0.243950</td>\n",
       "    </tr>\n",
       "  </tbody>\n",
       "</table>\n",
       "</div>"
      ],
      "text/plain": [
       "          0         1         2         3\n",
       "0 -0.394813 -0.694630  0.253393  0.602590\n",
       "1 -2.134217  1.141381 -0.130142  0.690936\n",
       "2 -0.223754  0.365133 -0.104233 -0.182788\n",
       "3  0.108066  0.331332  0.053708 -0.280468\n",
       "4  0.085290  0.740834 -0.596941  0.243950"
      ]
     },
     "execution_count": 12,
     "metadata": {},
     "output_type": "execute_result"
    }
   ],
   "source": [
    "df"
   ]
  },
  {
   "cell_type": "code",
   "execution_count": 16,
   "id": "76ef8e69-0126-4b94-be01-5cf5fc26ab25",
   "metadata": {},
   "outputs": [],
   "source": [
    "df.to_csv(\"exemplo2.csv\", sep=\";\", decimal=\",\") # Transferindo os dados para um outro arquivo"
   ]
  },
  {
   "cell_type": "code",
   "execution_count": null,
   "id": "8a76b99a-125e-422d-9f89-fc1a42256271",
   "metadata": {},
   "outputs": [],
   "source": []
  }
 ],
 "metadata": {
  "kernelspec": {
   "display_name": "Python 3 (ipykernel)",
   "language": "python",
   "name": "python3"
  },
  "language_info": {
   "codemirror_mode": {
    "name": "ipython",
    "version": 3
   },
   "file_extension": ".py",
   "mimetype": "text/x-python",
   "name": "python",
   "nbconvert_exporter": "python",
   "pygments_lexer": "ipython3",
   "version": "3.12.4"
  }
 },
 "nbformat": 4,
 "nbformat_minor": 5
}
