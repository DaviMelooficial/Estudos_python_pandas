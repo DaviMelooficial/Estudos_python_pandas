{
 "cells": [
  {
   "cell_type": "markdown",
   "id": "fa7cc449-8fba-4772-96e0-d3b15f28f52b",
   "metadata": {},
   "source": [
    "## Dataframes são compostos de Series e boa parte de suas manipulações não alteram o df original"
   ]
  },
  {
   "cell_type": "code",
   "execution_count": 4,
   "id": "7c0c94c8-7fcb-4308-8c1b-580b87d8d65f",
   "metadata": {},
   "outputs": [],
   "source": [
    "import pandas as pd\n",
    "from numpy.random import randn"
   ]
  },
  {
   "cell_type": "code",
   "execution_count": 6,
   "id": "913d32ac-62f4-4909-8b99-f907eac194c0",
   "metadata": {},
   "outputs": [],
   "source": [
    "df = pd.DataFrame(randn(5,4), index=['A','B','C','D','E'], columns='W X Y Z'.split())"
   ]
  },
  {
   "cell_type": "code",
   "execution_count": 8,
   "id": "260931b8-3ac8-4cc2-918e-42bd701c6687",
   "metadata": {},
   "outputs": [
    {
     "data": {
      "text/html": [
       "<div>\n",
       "<style scoped>\n",
       "    .dataframe tbody tr th:only-of-type {\n",
       "        vertical-align: middle;\n",
       "    }\n",
       "\n",
       "    .dataframe tbody tr th {\n",
       "        vertical-align: top;\n",
       "    }\n",
       "\n",
       "    .dataframe thead th {\n",
       "        text-align: right;\n",
       "    }\n",
       "</style>\n",
       "<table border=\"1\" class=\"dataframe\">\n",
       "  <thead>\n",
       "    <tr style=\"text-align: right;\">\n",
       "      <th></th>\n",
       "      <th>W</th>\n",
       "      <th>X</th>\n",
       "      <th>Y</th>\n",
       "      <th>Z</th>\n",
       "    </tr>\n",
       "  </thead>\n",
       "  <tbody>\n",
       "    <tr>\n",
       "      <th>A</th>\n",
       "      <td>0.781779</td>\n",
       "      <td>-0.658065</td>\n",
       "      <td>-0.632014</td>\n",
       "      <td>1.280898</td>\n",
       "    </tr>\n",
       "    <tr>\n",
       "      <th>B</th>\n",
       "      <td>-0.490781</td>\n",
       "      <td>0.419693</td>\n",
       "      <td>0.354613</td>\n",
       "      <td>1.392157</td>\n",
       "    </tr>\n",
       "    <tr>\n",
       "      <th>C</th>\n",
       "      <td>0.553514</td>\n",
       "      <td>0.601062</td>\n",
       "      <td>-0.893760</td>\n",
       "      <td>0.275576</td>\n",
       "    </tr>\n",
       "    <tr>\n",
       "      <th>D</th>\n",
       "      <td>0.323342</td>\n",
       "      <td>-0.746102</td>\n",
       "      <td>0.427726</td>\n",
       "      <td>1.141510</td>\n",
       "    </tr>\n",
       "    <tr>\n",
       "      <th>E</th>\n",
       "      <td>-0.622499</td>\n",
       "      <td>-1.305960</td>\n",
       "      <td>0.416695</td>\n",
       "      <td>-0.465319</td>\n",
       "    </tr>\n",
       "  </tbody>\n",
       "</table>\n",
       "</div>"
      ],
      "text/plain": [
       "          W         X         Y         Z\n",
       "A  0.781779 -0.658065 -0.632014  1.280898\n",
       "B -0.490781  0.419693  0.354613  1.392157\n",
       "C  0.553514  0.601062 -0.893760  0.275576\n",
       "D  0.323342 -0.746102  0.427726  1.141510\n",
       "E -0.622499 -1.305960  0.416695 -0.465319"
      ]
     },
     "execution_count": 8,
     "metadata": {},
     "output_type": "execute_result"
    }
   ],
   "source": [
    "df"
   ]
  },
  {
   "cell_type": "code",
   "execution_count": 18,
   "id": "7afc1fa7-bcf3-4fc9-a3a2-70b6072009c1",
   "metadata": {},
   "outputs": [
    {
     "data": {
      "text/plain": [
       "A    0.781779\n",
       "B   -0.490781\n",
       "C    0.553514\n",
       "D    0.323342\n",
       "E   -0.622499\n",
       "Name: W, dtype: float64"
      ]
     },
     "execution_count": 18,
     "metadata": {},
     "output_type": "execute_result"
    }
   ],
   "source": [
    "df[\"W\"] # Ao acessar uma coluna de um DataFrame dessa forma ele retorna uma Series"
   ]
  },
  {
   "cell_type": "code",
   "execution_count": 30,
   "id": "0baf4827-0fc2-46b9-8f34-e3748423a6c1",
   "metadata": {},
   "outputs": [
    {
     "data": {
      "text/html": [
       "<div>\n",
       "<style scoped>\n",
       "    .dataframe tbody tr th:only-of-type {\n",
       "        vertical-align: middle;\n",
       "    }\n",
       "\n",
       "    .dataframe tbody tr th {\n",
       "        vertical-align: top;\n",
       "    }\n",
       "\n",
       "    .dataframe thead th {\n",
       "        text-align: right;\n",
       "    }\n",
       "</style>\n",
       "<table border=\"1\" class=\"dataframe\">\n",
       "  <thead>\n",
       "    <tr style=\"text-align: right;\">\n",
       "      <th></th>\n",
       "      <th>W</th>\n",
       "    </tr>\n",
       "  </thead>\n",
       "  <tbody>\n",
       "    <tr>\n",
       "      <th>A</th>\n",
       "      <td>0.781779</td>\n",
       "    </tr>\n",
       "    <tr>\n",
       "      <th>B</th>\n",
       "      <td>-0.490781</td>\n",
       "    </tr>\n",
       "    <tr>\n",
       "      <th>C</th>\n",
       "      <td>0.553514</td>\n",
       "    </tr>\n",
       "    <tr>\n",
       "      <th>D</th>\n",
       "      <td>0.323342</td>\n",
       "    </tr>\n",
       "    <tr>\n",
       "      <th>E</th>\n",
       "      <td>-0.622499</td>\n",
       "    </tr>\n",
       "  </tbody>\n",
       "</table>\n",
       "</div>"
      ],
      "text/plain": [
       "          W\n",
       "A  0.781779\n",
       "B -0.490781\n",
       "C  0.553514\n",
       "D  0.323342\n",
       "E -0.622499"
      ]
     },
     "execution_count": 30,
     "metadata": {},
     "output_type": "execute_result"
    }
   ],
   "source": [
    "df[['W']] # Mas acessando ele no formato de lista ele retorna a formatação padrão"
   ]
  },
  {
   "cell_type": "markdown",
   "id": "e18d8084-1d1a-4fdd-8e41-4a5c827854f6",
   "metadata": {},
   "source": [
    "## É possível acrescentar colunas com operações"
   ]
  },
  {
   "cell_type": "code",
   "execution_count": 40,
   "id": "09f93f08-11ef-46b3-8ee0-b5366225a2ca",
   "metadata": {},
   "outputs": [
    {
     "data": {
      "text/html": [
       "<div>\n",
       "<style scoped>\n",
       "    .dataframe tbody tr th:only-of-type {\n",
       "        vertical-align: middle;\n",
       "    }\n",
       "\n",
       "    .dataframe tbody tr th {\n",
       "        vertical-align: top;\n",
       "    }\n",
       "\n",
       "    .dataframe thead th {\n",
       "        text-align: right;\n",
       "    }\n",
       "</style>\n",
       "<table border=\"1\" class=\"dataframe\">\n",
       "  <thead>\n",
       "    <tr style=\"text-align: right;\">\n",
       "      <th></th>\n",
       "      <th>W</th>\n",
       "      <th>X</th>\n",
       "      <th>Y</th>\n",
       "      <th>Z</th>\n",
       "      <th>NEW</th>\n",
       "    </tr>\n",
       "  </thead>\n",
       "  <tbody>\n",
       "    <tr>\n",
       "      <th>A</th>\n",
       "      <td>0.781779</td>\n",
       "      <td>-0.658065</td>\n",
       "      <td>-0.632014</td>\n",
       "      <td>1.280898</td>\n",
       "      <td>0.648884</td>\n",
       "    </tr>\n",
       "    <tr>\n",
       "      <th>B</th>\n",
       "      <td>-0.490781</td>\n",
       "      <td>0.419693</td>\n",
       "      <td>0.354613</td>\n",
       "      <td>1.392157</td>\n",
       "      <td>1.746770</td>\n",
       "    </tr>\n",
       "    <tr>\n",
       "      <th>C</th>\n",
       "      <td>0.553514</td>\n",
       "      <td>0.601062</td>\n",
       "      <td>-0.893760</td>\n",
       "      <td>0.275576</td>\n",
       "      <td>-0.618184</td>\n",
       "    </tr>\n",
       "    <tr>\n",
       "      <th>D</th>\n",
       "      <td>0.323342</td>\n",
       "      <td>-0.746102</td>\n",
       "      <td>0.427726</td>\n",
       "      <td>1.141510</td>\n",
       "      <td>1.569236</td>\n",
       "    </tr>\n",
       "    <tr>\n",
       "      <th>E</th>\n",
       "      <td>-0.622499</td>\n",
       "      <td>-1.305960</td>\n",
       "      <td>0.416695</td>\n",
       "      <td>-0.465319</td>\n",
       "      <td>-0.048624</td>\n",
       "    </tr>\n",
       "  </tbody>\n",
       "</table>\n",
       "</div>"
      ],
      "text/plain": [
       "          W         X         Y         Z       NEW\n",
       "A  0.781779 -0.658065 -0.632014  1.280898  0.648884\n",
       "B -0.490781  0.419693  0.354613  1.392157  1.746770\n",
       "C  0.553514  0.601062 -0.893760  0.275576 -0.618184\n",
       "D  0.323342 -0.746102  0.427726  1.141510  1.569236\n",
       "E -0.622499 -1.305960  0.416695 -0.465319 -0.048624"
      ]
     },
     "execution_count": 40,
     "metadata": {},
     "output_type": "execute_result"
    }
   ],
   "source": [
    "df['NEW'] = df['Y'] + df['Z']\n",
    "df"
   ]
  },
  {
   "cell_type": "markdown",
   "id": "22eb77f8-d330-4eef-8e7f-0790bf6580e8",
   "metadata": {},
   "source": [
    "## O método drop remove uma coluna do DataFrame e exibe ele como uma cópia do original sem a coluna ou linha especificada"
   ]
  },
  {
   "cell_type": "code",
   "execution_count": 58,
   "id": "e77dff92-298d-42db-8f1b-da2d846ee3af",
   "metadata": {},
   "outputs": [
    {
     "data": {
      "text/html": [
       "<div>\n",
       "<style scoped>\n",
       "    .dataframe tbody tr th:only-of-type {\n",
       "        vertical-align: middle;\n",
       "    }\n",
       "\n",
       "    .dataframe tbody tr th {\n",
       "        vertical-align: top;\n",
       "    }\n",
       "\n",
       "    .dataframe thead th {\n",
       "        text-align: right;\n",
       "    }\n",
       "</style>\n",
       "<table border=\"1\" class=\"dataframe\">\n",
       "  <thead>\n",
       "    <tr style=\"text-align: right;\">\n",
       "      <th></th>\n",
       "      <th>W</th>\n",
       "      <th>X</th>\n",
       "      <th>Y</th>\n",
       "      <th>Z</th>\n",
       "    </tr>\n",
       "  </thead>\n",
       "  <tbody>\n",
       "    <tr>\n",
       "      <th>A</th>\n",
       "      <td>0.781779</td>\n",
       "      <td>-0.658065</td>\n",
       "      <td>-0.632014</td>\n",
       "      <td>1.280898</td>\n",
       "    </tr>\n",
       "    <tr>\n",
       "      <th>B</th>\n",
       "      <td>-0.490781</td>\n",
       "      <td>0.419693</td>\n",
       "      <td>0.354613</td>\n",
       "      <td>1.392157</td>\n",
       "    </tr>\n",
       "    <tr>\n",
       "      <th>C</th>\n",
       "      <td>0.553514</td>\n",
       "      <td>0.601062</td>\n",
       "      <td>-0.893760</td>\n",
       "      <td>0.275576</td>\n",
       "    </tr>\n",
       "    <tr>\n",
       "      <th>D</th>\n",
       "      <td>0.323342</td>\n",
       "      <td>-0.746102</td>\n",
       "      <td>0.427726</td>\n",
       "      <td>1.141510</td>\n",
       "    </tr>\n",
       "    <tr>\n",
       "      <th>E</th>\n",
       "      <td>-0.622499</td>\n",
       "      <td>-1.305960</td>\n",
       "      <td>0.416695</td>\n",
       "      <td>-0.465319</td>\n",
       "    </tr>\n",
       "  </tbody>\n",
       "</table>\n",
       "</div>"
      ],
      "text/plain": [
       "          W         X         Y         Z\n",
       "A  0.781779 -0.658065 -0.632014  1.280898\n",
       "B -0.490781  0.419693  0.354613  1.392157\n",
       "C  0.553514  0.601062 -0.893760  0.275576\n",
       "D  0.323342 -0.746102  0.427726  1.141510\n",
       "E -0.622499 -1.305960  0.416695 -0.465319"
      ]
     },
     "execution_count": 58,
     "metadata": {},
     "output_type": "execute_result"
    }
   ],
   "source": [
    "df.drop('NEW', axis=1) \n",
    "# Também é possível salvar essa versão em variáveis\n",
    "# O axis(Eixo) pode ser 0 para linhas ou 1 para colunas"
   ]
  },
  {
   "cell_type": "code",
   "execution_count": 52,
   "id": "1db9412a-4b2c-4ab3-bf86-2e784440384e",
   "metadata": {},
   "outputs": [
    {
     "data": {
      "text/html": [
       "<div>\n",
       "<style scoped>\n",
       "    .dataframe tbody tr th:only-of-type {\n",
       "        vertical-align: middle;\n",
       "    }\n",
       "\n",
       "    .dataframe tbody tr th {\n",
       "        vertical-align: top;\n",
       "    }\n",
       "\n",
       "    .dataframe thead th {\n",
       "        text-align: right;\n",
       "    }\n",
       "</style>\n",
       "<table border=\"1\" class=\"dataframe\">\n",
       "  <thead>\n",
       "    <tr style=\"text-align: right;\">\n",
       "      <th></th>\n",
       "      <th>W</th>\n",
       "      <th>X</th>\n",
       "      <th>Y</th>\n",
       "      <th>Z</th>\n",
       "      <th>NEW</th>\n",
       "    </tr>\n",
       "  </thead>\n",
       "  <tbody>\n",
       "    <tr>\n",
       "      <th>A</th>\n",
       "      <td>0.781779</td>\n",
       "      <td>-0.658065</td>\n",
       "      <td>-0.632014</td>\n",
       "      <td>1.280898</td>\n",
       "      <td>0.648884</td>\n",
       "    </tr>\n",
       "    <tr>\n",
       "      <th>B</th>\n",
       "      <td>-0.490781</td>\n",
       "      <td>0.419693</td>\n",
       "      <td>0.354613</td>\n",
       "      <td>1.392157</td>\n",
       "      <td>1.746770</td>\n",
       "    </tr>\n",
       "    <tr>\n",
       "      <th>C</th>\n",
       "      <td>0.553514</td>\n",
       "      <td>0.601062</td>\n",
       "      <td>-0.893760</td>\n",
       "      <td>0.275576</td>\n",
       "      <td>-0.618184</td>\n",
       "    </tr>\n",
       "    <tr>\n",
       "      <th>D</th>\n",
       "      <td>0.323342</td>\n",
       "      <td>-0.746102</td>\n",
       "      <td>0.427726</td>\n",
       "      <td>1.141510</td>\n",
       "      <td>1.569236</td>\n",
       "    </tr>\n",
       "    <tr>\n",
       "      <th>E</th>\n",
       "      <td>-0.622499</td>\n",
       "      <td>-1.305960</td>\n",
       "      <td>0.416695</td>\n",
       "      <td>-0.465319</td>\n",
       "      <td>-0.048624</td>\n",
       "    </tr>\n",
       "  </tbody>\n",
       "</table>\n",
       "</div>"
      ],
      "text/plain": [
       "          W         X         Y         Z       NEW\n",
       "A  0.781779 -0.658065 -0.632014  1.280898  0.648884\n",
       "B -0.490781  0.419693  0.354613  1.392157  1.746770\n",
       "C  0.553514  0.601062 -0.893760  0.275576 -0.618184\n",
       "D  0.323342 -0.746102  0.427726  1.141510  1.569236\n",
       "E -0.622499 -1.305960  0.416695 -0.465319 -0.048624"
      ]
     },
     "execution_count": 52,
     "metadata": {},
     "output_type": "execute_result"
    }
   ],
   "source": [
    "df # Reexibindo o DataFrame original ele ainda possui a coluna NEW"
   ]
  },
  {
   "cell_type": "markdown",
   "id": "3fab88e4-8fa2-4f13-b674-6a78e55d2fd2",
   "metadata": {},
   "source": [
    "## Para remove-lo definitivamente é necessário acrescentar o inplace ao método drop"
   ]
  },
  {
   "cell_type": "code",
   "execution_count": 62,
   "id": "bd520c31-cd35-472e-ad97-c948b5826e9b",
   "metadata": {},
   "outputs": [],
   "source": [
    "df.drop('NEW', axis=1, inplace=True) "
   ]
  },
  {
   "cell_type": "code",
   "execution_count": 66,
   "id": "3bc32217-7811-46cb-bc87-382d34dbc592",
   "metadata": {},
   "outputs": [
    {
     "data": {
      "text/html": [
       "<div>\n",
       "<style scoped>\n",
       "    .dataframe tbody tr th:only-of-type {\n",
       "        vertical-align: middle;\n",
       "    }\n",
       "\n",
       "    .dataframe tbody tr th {\n",
       "        vertical-align: top;\n",
       "    }\n",
       "\n",
       "    .dataframe thead th {\n",
       "        text-align: right;\n",
       "    }\n",
       "</style>\n",
       "<table border=\"1\" class=\"dataframe\">\n",
       "  <thead>\n",
       "    <tr style=\"text-align: right;\">\n",
       "      <th></th>\n",
       "      <th>W</th>\n",
       "      <th>X</th>\n",
       "      <th>Y</th>\n",
       "      <th>Z</th>\n",
       "    </tr>\n",
       "  </thead>\n",
       "  <tbody>\n",
       "    <tr>\n",
       "      <th>A</th>\n",
       "      <td>0.781779</td>\n",
       "      <td>-0.658065</td>\n",
       "      <td>-0.632014</td>\n",
       "      <td>1.280898</td>\n",
       "    </tr>\n",
       "    <tr>\n",
       "      <th>B</th>\n",
       "      <td>-0.490781</td>\n",
       "      <td>0.419693</td>\n",
       "      <td>0.354613</td>\n",
       "      <td>1.392157</td>\n",
       "    </tr>\n",
       "    <tr>\n",
       "      <th>C</th>\n",
       "      <td>0.553514</td>\n",
       "      <td>0.601062</td>\n",
       "      <td>-0.893760</td>\n",
       "      <td>0.275576</td>\n",
       "    </tr>\n",
       "    <tr>\n",
       "      <th>D</th>\n",
       "      <td>0.323342</td>\n",
       "      <td>-0.746102</td>\n",
       "      <td>0.427726</td>\n",
       "      <td>1.141510</td>\n",
       "    </tr>\n",
       "    <tr>\n",
       "      <th>E</th>\n",
       "      <td>-0.622499</td>\n",
       "      <td>-1.305960</td>\n",
       "      <td>0.416695</td>\n",
       "      <td>-0.465319</td>\n",
       "    </tr>\n",
       "  </tbody>\n",
       "</table>\n",
       "</div>"
      ],
      "text/plain": [
       "          W         X         Y         Z\n",
       "A  0.781779 -0.658065 -0.632014  1.280898\n",
       "B -0.490781  0.419693  0.354613  1.392157\n",
       "C  0.553514  0.601062 -0.893760  0.275576\n",
       "D  0.323342 -0.746102  0.427726  1.141510\n",
       "E -0.622499 -1.305960  0.416695 -0.465319"
      ]
     },
     "execution_count": 66,
     "metadata": {},
     "output_type": "execute_result"
    }
   ],
   "source": [
    "df # DataFrame com a coluna NEW removida no modelo original"
   ]
  },
  {
   "cell_type": "markdown",
   "id": "7ea063f7-caa4-483f-9c7b-dcde7e24ccf9",
   "metadata": {},
   "source": [
    "## Acessando linhas de um DataFrame com loc e iloc"
   ]
  },
  {
   "cell_type": "code",
   "execution_count": 81,
   "id": "452f8159-a784-4d8c-9cb5-1671aa357481",
   "metadata": {},
   "outputs": [
    {
     "data": {
      "text/plain": [
       "W    0.781779\n",
       "X   -0.658065\n",
       "Y   -0.632014\n",
       "Z    1.280898\n",
       "Name: A, dtype: float64"
      ]
     },
     "execution_count": 81,
     "metadata": {},
     "output_type": "execute_result"
    }
   ],
   "source": [
    "df.loc['A'] # Ele exibe de forma transposta as colunas como indices dos dados daquela linha"
   ]
  },
  {
   "cell_type": "code",
   "execution_count": 79,
   "id": "74100621-ea12-409d-bdb5-de732b26aa70",
   "metadata": {},
   "outputs": [
    {
     "data": {
      "text/html": [
       "<div>\n",
       "<style scoped>\n",
       "    .dataframe tbody tr th:only-of-type {\n",
       "        vertical-align: middle;\n",
       "    }\n",
       "\n",
       "    .dataframe tbody tr th {\n",
       "        vertical-align: top;\n",
       "    }\n",
       "\n",
       "    .dataframe thead th {\n",
       "        text-align: right;\n",
       "    }\n",
       "</style>\n",
       "<table border=\"1\" class=\"dataframe\">\n",
       "  <thead>\n",
       "    <tr style=\"text-align: right;\">\n",
       "      <th></th>\n",
       "      <th>W</th>\n",
       "      <th>X</th>\n",
       "      <th>Y</th>\n",
       "      <th>Z</th>\n",
       "    </tr>\n",
       "  </thead>\n",
       "  <tbody>\n",
       "    <tr>\n",
       "      <th>A</th>\n",
       "      <td>0.781779</td>\n",
       "      <td>-0.658065</td>\n",
       "      <td>-0.632014</td>\n",
       "      <td>1.280898</td>\n",
       "    </tr>\n",
       "  </tbody>\n",
       "</table>\n",
       "</div>"
      ],
      "text/plain": [
       "          W         X         Y         Z\n",
       "A  0.781779 -0.658065 -0.632014  1.280898"
      ]
     },
     "execution_count": 79,
     "metadata": {},
     "output_type": "execute_result"
    }
   ],
   "source": [
    "df.loc[['A']]"
   ]
  },
  {
   "cell_type": "code",
   "execution_count": null,
   "id": "dc6c273b-a20a-451c-a16f-d37a3e030130",
   "metadata": {},
   "outputs": [],
   "source": []
  }
 ],
 "metadata": {
  "kernelspec": {
   "display_name": "Python 3 (ipykernel)",
   "language": "python",
   "name": "python3"
  },
  "language_info": {
   "codemirror_mode": {
    "name": "ipython",
    "version": 3
   },
   "file_extension": ".py",
   "mimetype": "text/x-python",
   "name": "python",
   "nbconvert_exporter": "python",
   "pygments_lexer": "ipython3",
   "version": "3.12.4"
  }
 },
 "nbformat": 4,
 "nbformat_minor": 5
}
