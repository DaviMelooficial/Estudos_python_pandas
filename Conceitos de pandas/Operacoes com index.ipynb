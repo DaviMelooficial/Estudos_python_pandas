{
 "cells": [
  {
   "cell_type": "code",
   "execution_count": 4,
   "id": "83b8d68b-97c6-4330-a044-5570575a3a94",
   "metadata": {},
   "outputs": [],
   "source": [
    "import pandas as pd\n",
    "from numpy.random import randn"
   ]
  },
  {
   "cell_type": "code",
   "execution_count": 9,
   "id": "f05acc91-e2e7-4776-98e5-5bd4beb9520e",
   "metadata": {},
   "outputs": [],
   "source": [
    "df = pd.DataFrame(randn(5,4), index=[\"A\",\"B\",\"C\",\"D\",\"E\"], columns=\"W X Y Z\".split())"
   ]
  },
  {
   "cell_type": "markdown",
   "id": "60ff8129-e78d-414a-ae20-01defca855ca",
   "metadata": {},
   "source": [
    "## Métodos de se manipular os índices de um DataFrame"
   ]
  },
  {
   "cell_type": "code",
   "execution_count": 11,
   "id": "07a4fd8e-be3f-4701-b50d-c11bbf599859",
   "metadata": {},
   "outputs": [
    {
     "data": {
      "text/html": [
       "<div>\n",
       "<style scoped>\n",
       "    .dataframe tbody tr th:only-of-type {\n",
       "        vertical-align: middle;\n",
       "    }\n",
       "\n",
       "    .dataframe tbody tr th {\n",
       "        vertical-align: top;\n",
       "    }\n",
       "\n",
       "    .dataframe thead th {\n",
       "        text-align: right;\n",
       "    }\n",
       "</style>\n",
       "<table border=\"1\" class=\"dataframe\">\n",
       "  <thead>\n",
       "    <tr style=\"text-align: right;\">\n",
       "      <th></th>\n",
       "      <th>W</th>\n",
       "      <th>X</th>\n",
       "      <th>Y</th>\n",
       "      <th>Z</th>\n",
       "    </tr>\n",
       "  </thead>\n",
       "  <tbody>\n",
       "    <tr>\n",
       "      <th>A</th>\n",
       "      <td>0.349107</td>\n",
       "      <td>0.240011</td>\n",
       "      <td>-0.466053</td>\n",
       "      <td>-0.399843</td>\n",
       "    </tr>\n",
       "    <tr>\n",
       "      <th>B</th>\n",
       "      <td>0.648228</td>\n",
       "      <td>1.140957</td>\n",
       "      <td>0.691442</td>\n",
       "      <td>0.140729</td>\n",
       "    </tr>\n",
       "    <tr>\n",
       "      <th>C</th>\n",
       "      <td>2.296592</td>\n",
       "      <td>1.493367</td>\n",
       "      <td>-0.637009</td>\n",
       "      <td>0.126544</td>\n",
       "    </tr>\n",
       "    <tr>\n",
       "      <th>D</th>\n",
       "      <td>-0.944324</td>\n",
       "      <td>-0.253151</td>\n",
       "      <td>0.556806</td>\n",
       "      <td>-0.483362</td>\n",
       "    </tr>\n",
       "    <tr>\n",
       "      <th>E</th>\n",
       "      <td>0.341513</td>\n",
       "      <td>-1.217122</td>\n",
       "      <td>-2.114856</td>\n",
       "      <td>-0.216331</td>\n",
       "    </tr>\n",
       "  </tbody>\n",
       "</table>\n",
       "</div>"
      ],
      "text/plain": [
       "          W         X         Y         Z\n",
       "A  0.349107  0.240011 -0.466053 -0.399843\n",
       "B  0.648228  1.140957  0.691442  0.140729\n",
       "C  2.296592  1.493367 -0.637009  0.126544\n",
       "D -0.944324 -0.253151  0.556806 -0.483362\n",
       "E  0.341513 -1.217122 -2.114856 -0.216331"
      ]
     },
     "execution_count": 11,
     "metadata": {},
     "output_type": "execute_result"
    }
   ],
   "source": [
    "df"
   ]
  },
  {
   "cell_type": "code",
   "execution_count": 15,
   "id": "93a62eca-6c9d-4123-ae0b-445b036f82b1",
   "metadata": {},
   "outputs": [
    {
     "data": {
      "text/plain": [
       "Index(['A', 'B', 'C', 'D', 'E'], dtype='object')"
      ]
     },
     "execution_count": 15,
     "metadata": {},
     "output_type": "execute_result"
    }
   ],
   "source": [
    "df.index # Retorna uma lista com os índices"
   ]
  },
  {
   "cell_type": "code",
   "execution_count": 19,
   "id": "17b37350-3bd9-4550-8cc3-af67ba1c950d",
   "metadata": {},
   "outputs": [
    {
     "data": {
      "text/plain": [
       "Index(['W', 'X', 'Y', 'Z'], dtype='object')"
      ]
     },
     "execution_count": 19,
     "metadata": {},
     "output_type": "execute_result"
    }
   ],
   "source": [
    "df.columns # Retorna uma lista com as colunas"
   ]
  },
  {
   "cell_type": "code",
   "execution_count": 29,
   "id": "afe3ef59-52f9-4bb8-81ae-954b906bf531",
   "metadata": {},
   "outputs": [],
   "source": [
    "df.reset_index(inplace=True) # \"Extrai\" o índice original como coluna atribuindo um índice númerico"
   ]
  },
  {
   "cell_type": "code",
   "execution_count": 31,
   "id": "ecbd347b-e8fd-4ac1-aeb2-e53d5c2b9ea4",
   "metadata": {},
   "outputs": [
    {
     "data": {
      "text/html": [
       "<div>\n",
       "<style scoped>\n",
       "    .dataframe tbody tr th:only-of-type {\n",
       "        vertical-align: middle;\n",
       "    }\n",
       "\n",
       "    .dataframe tbody tr th {\n",
       "        vertical-align: top;\n",
       "    }\n",
       "\n",
       "    .dataframe thead th {\n",
       "        text-align: right;\n",
       "    }\n",
       "</style>\n",
       "<table border=\"1\" class=\"dataframe\">\n",
       "  <thead>\n",
       "    <tr style=\"text-align: right;\">\n",
       "      <th></th>\n",
       "      <th>index</th>\n",
       "      <th>W</th>\n",
       "      <th>X</th>\n",
       "      <th>Y</th>\n",
       "      <th>Z</th>\n",
       "    </tr>\n",
       "  </thead>\n",
       "  <tbody>\n",
       "    <tr>\n",
       "      <th>0</th>\n",
       "      <td>A</td>\n",
       "      <td>0.349107</td>\n",
       "      <td>0.240011</td>\n",
       "      <td>-0.466053</td>\n",
       "      <td>-0.399843</td>\n",
       "    </tr>\n",
       "    <tr>\n",
       "      <th>1</th>\n",
       "      <td>B</td>\n",
       "      <td>0.648228</td>\n",
       "      <td>1.140957</td>\n",
       "      <td>0.691442</td>\n",
       "      <td>0.140729</td>\n",
       "    </tr>\n",
       "    <tr>\n",
       "      <th>2</th>\n",
       "      <td>C</td>\n",
       "      <td>2.296592</td>\n",
       "      <td>1.493367</td>\n",
       "      <td>-0.637009</td>\n",
       "      <td>0.126544</td>\n",
       "    </tr>\n",
       "    <tr>\n",
       "      <th>3</th>\n",
       "      <td>D</td>\n",
       "      <td>-0.944324</td>\n",
       "      <td>-0.253151</td>\n",
       "      <td>0.556806</td>\n",
       "      <td>-0.483362</td>\n",
       "    </tr>\n",
       "    <tr>\n",
       "      <th>4</th>\n",
       "      <td>E</td>\n",
       "      <td>0.341513</td>\n",
       "      <td>-1.217122</td>\n",
       "      <td>-2.114856</td>\n",
       "      <td>-0.216331</td>\n",
       "    </tr>\n",
       "  </tbody>\n",
       "</table>\n",
       "</div>"
      ],
      "text/plain": [
       "  index         W         X         Y         Z\n",
       "0     A  0.349107  0.240011 -0.466053 -0.399843\n",
       "1     B  0.648228  1.140957  0.691442  0.140729\n",
       "2     C  2.296592  1.493367 -0.637009  0.126544\n",
       "3     D -0.944324 -0.253151  0.556806 -0.483362\n",
       "4     E  0.341513 -1.217122 -2.114856 -0.216331"
      ]
     },
     "execution_count": 31,
     "metadata": {},
     "output_type": "execute_result"
    }
   ],
   "source": [
    "df # Vale ressaltar que o método não altera o DataFrame original é necessário (inplace = True)"
   ]
  },
  {
   "cell_type": "code",
   "execution_count": 41,
   "id": "ec985839-315a-4d53-9fae-cffd9435d96b",
   "metadata": {},
   "outputs": [],
   "source": [
    "df.set_index(\"index\", inplace=True) # Forma de dar \"nome\" a coluna de índices e desfazer o reset_index"
   ]
  },
  {
   "cell_type": "code",
   "execution_count": 43,
   "id": "2c9115a1-6164-4a33-9984-9d4906127c32",
   "metadata": {},
   "outputs": [
    {
     "data": {
      "text/html": [
       "<div>\n",
       "<style scoped>\n",
       "    .dataframe tbody tr th:only-of-type {\n",
       "        vertical-align: middle;\n",
       "    }\n",
       "\n",
       "    .dataframe tbody tr th {\n",
       "        vertical-align: top;\n",
       "    }\n",
       "\n",
       "    .dataframe thead th {\n",
       "        text-align: right;\n",
       "    }\n",
       "</style>\n",
       "<table border=\"1\" class=\"dataframe\">\n",
       "  <thead>\n",
       "    <tr style=\"text-align: right;\">\n",
       "      <th></th>\n",
       "      <th>W</th>\n",
       "      <th>X</th>\n",
       "      <th>Y</th>\n",
       "      <th>Z</th>\n",
       "    </tr>\n",
       "    <tr>\n",
       "      <th>index</th>\n",
       "      <th></th>\n",
       "      <th></th>\n",
       "      <th></th>\n",
       "      <th></th>\n",
       "    </tr>\n",
       "  </thead>\n",
       "  <tbody>\n",
       "    <tr>\n",
       "      <th>A</th>\n",
       "      <td>0.349107</td>\n",
       "      <td>0.240011</td>\n",
       "      <td>-0.466053</td>\n",
       "      <td>-0.399843</td>\n",
       "    </tr>\n",
       "    <tr>\n",
       "      <th>B</th>\n",
       "      <td>0.648228</td>\n",
       "      <td>1.140957</td>\n",
       "      <td>0.691442</td>\n",
       "      <td>0.140729</td>\n",
       "    </tr>\n",
       "    <tr>\n",
       "      <th>C</th>\n",
       "      <td>2.296592</td>\n",
       "      <td>1.493367</td>\n",
       "      <td>-0.637009</td>\n",
       "      <td>0.126544</td>\n",
       "    </tr>\n",
       "    <tr>\n",
       "      <th>D</th>\n",
       "      <td>-0.944324</td>\n",
       "      <td>-0.253151</td>\n",
       "      <td>0.556806</td>\n",
       "      <td>-0.483362</td>\n",
       "    </tr>\n",
       "    <tr>\n",
       "      <th>E</th>\n",
       "      <td>0.341513</td>\n",
       "      <td>-1.217122</td>\n",
       "      <td>-2.114856</td>\n",
       "      <td>-0.216331</td>\n",
       "    </tr>\n",
       "  </tbody>\n",
       "</table>\n",
       "</div>"
      ],
      "text/plain": [
       "              W         X         Y         Z\n",
       "index                                        \n",
       "A      0.349107  0.240011 -0.466053 -0.399843\n",
       "B      0.648228  1.140957  0.691442  0.140729\n",
       "C      2.296592  1.493367 -0.637009  0.126544\n",
       "D     -0.944324 -0.253151  0.556806 -0.483362\n",
       "E      0.341513 -1.217122 -2.114856 -0.216331"
      ]
     },
     "execution_count": 43,
     "metadata": {},
     "output_type": "execute_result"
    }
   ],
   "source": [
    "df"
   ]
  },
  {
   "cell_type": "code",
   "execution_count": 45,
   "id": "335699e0-1f40-4ae8-8808-2114df16fe2d",
   "metadata": {},
   "outputs": [],
   "source": [
    "novo_index = \"AA BB CC DD EE\".split()"
   ]
  },
  {
   "cell_type": "code",
   "execution_count": 47,
   "id": "5a4b3a58-7ef6-441f-90fd-3a2d155a7fac",
   "metadata": {},
   "outputs": [],
   "source": [
    "df[\"novo_index\"] = novo_index # Acrescentando nova coluna"
   ]
  },
  {
   "cell_type": "code",
   "execution_count": 49,
   "id": "f9f782ef-f622-46ea-bfc2-3bad6bad0820",
   "metadata": {},
   "outputs": [
    {
     "data": {
      "text/html": [
       "<div>\n",
       "<style scoped>\n",
       "    .dataframe tbody tr th:only-of-type {\n",
       "        vertical-align: middle;\n",
       "    }\n",
       "\n",
       "    .dataframe tbody tr th {\n",
       "        vertical-align: top;\n",
       "    }\n",
       "\n",
       "    .dataframe thead th {\n",
       "        text-align: right;\n",
       "    }\n",
       "</style>\n",
       "<table border=\"1\" class=\"dataframe\">\n",
       "  <thead>\n",
       "    <tr style=\"text-align: right;\">\n",
       "      <th></th>\n",
       "      <th>W</th>\n",
       "      <th>X</th>\n",
       "      <th>Y</th>\n",
       "      <th>Z</th>\n",
       "      <th>novo_index</th>\n",
       "    </tr>\n",
       "    <tr>\n",
       "      <th>index</th>\n",
       "      <th></th>\n",
       "      <th></th>\n",
       "      <th></th>\n",
       "      <th></th>\n",
       "      <th></th>\n",
       "    </tr>\n",
       "  </thead>\n",
       "  <tbody>\n",
       "    <tr>\n",
       "      <th>A</th>\n",
       "      <td>0.349107</td>\n",
       "      <td>0.240011</td>\n",
       "      <td>-0.466053</td>\n",
       "      <td>-0.399843</td>\n",
       "      <td>AA</td>\n",
       "    </tr>\n",
       "    <tr>\n",
       "      <th>B</th>\n",
       "      <td>0.648228</td>\n",
       "      <td>1.140957</td>\n",
       "      <td>0.691442</td>\n",
       "      <td>0.140729</td>\n",
       "      <td>BB</td>\n",
       "    </tr>\n",
       "    <tr>\n",
       "      <th>C</th>\n",
       "      <td>2.296592</td>\n",
       "      <td>1.493367</td>\n",
       "      <td>-0.637009</td>\n",
       "      <td>0.126544</td>\n",
       "      <td>CC</td>\n",
       "    </tr>\n",
       "    <tr>\n",
       "      <th>D</th>\n",
       "      <td>-0.944324</td>\n",
       "      <td>-0.253151</td>\n",
       "      <td>0.556806</td>\n",
       "      <td>-0.483362</td>\n",
       "      <td>DD</td>\n",
       "    </tr>\n",
       "    <tr>\n",
       "      <th>E</th>\n",
       "      <td>0.341513</td>\n",
       "      <td>-1.217122</td>\n",
       "      <td>-2.114856</td>\n",
       "      <td>-0.216331</td>\n",
       "      <td>EE</td>\n",
       "    </tr>\n",
       "  </tbody>\n",
       "</table>\n",
       "</div>"
      ],
      "text/plain": [
       "              W         X         Y         Z novo_index\n",
       "index                                                   \n",
       "A      0.349107  0.240011 -0.466053 -0.399843         AA\n",
       "B      0.648228  1.140957  0.691442  0.140729         BB\n",
       "C      2.296592  1.493367 -0.637009  0.126544         CC\n",
       "D     -0.944324 -0.253151  0.556806 -0.483362         DD\n",
       "E      0.341513 -1.217122 -2.114856 -0.216331         EE"
      ]
     },
     "execution_count": 49,
     "metadata": {},
     "output_type": "execute_result"
    }
   ],
   "source": [
    "df"
   ]
  },
  {
   "cell_type": "code",
   "execution_count": 55,
   "id": "b75bc340-4fba-4bf0-9aa3-c2b3df394002",
   "metadata": {},
   "outputs": [
    {
     "data": {
      "text/html": [
       "<div>\n",
       "<style scoped>\n",
       "    .dataframe tbody tr th:only-of-type {\n",
       "        vertical-align: middle;\n",
       "    }\n",
       "\n",
       "    .dataframe tbody tr th {\n",
       "        vertical-align: top;\n",
       "    }\n",
       "\n",
       "    .dataframe thead th {\n",
       "        text-align: right;\n",
       "    }\n",
       "</style>\n",
       "<table border=\"1\" class=\"dataframe\">\n",
       "  <thead>\n",
       "    <tr style=\"text-align: right;\">\n",
       "      <th></th>\n",
       "      <th>index</th>\n",
       "      <th>W</th>\n",
       "      <th>X</th>\n",
       "      <th>Y</th>\n",
       "      <th>Z</th>\n",
       "    </tr>\n",
       "    <tr>\n",
       "      <th>novo_index</th>\n",
       "      <th></th>\n",
       "      <th></th>\n",
       "      <th></th>\n",
       "      <th></th>\n",
       "      <th></th>\n",
       "    </tr>\n",
       "  </thead>\n",
       "  <tbody>\n",
       "    <tr>\n",
       "      <th>AA</th>\n",
       "      <td>A</td>\n",
       "      <td>0.349107</td>\n",
       "      <td>0.240011</td>\n",
       "      <td>-0.466053</td>\n",
       "      <td>-0.399843</td>\n",
       "    </tr>\n",
       "    <tr>\n",
       "      <th>BB</th>\n",
       "      <td>B</td>\n",
       "      <td>0.648228</td>\n",
       "      <td>1.140957</td>\n",
       "      <td>0.691442</td>\n",
       "      <td>0.140729</td>\n",
       "    </tr>\n",
       "    <tr>\n",
       "      <th>CC</th>\n",
       "      <td>C</td>\n",
       "      <td>2.296592</td>\n",
       "      <td>1.493367</td>\n",
       "      <td>-0.637009</td>\n",
       "      <td>0.126544</td>\n",
       "    </tr>\n",
       "    <tr>\n",
       "      <th>DD</th>\n",
       "      <td>D</td>\n",
       "      <td>-0.944324</td>\n",
       "      <td>-0.253151</td>\n",
       "      <td>0.556806</td>\n",
       "      <td>-0.483362</td>\n",
       "    </tr>\n",
       "    <tr>\n",
       "      <th>EE</th>\n",
       "      <td>E</td>\n",
       "      <td>0.341513</td>\n",
       "      <td>-1.217122</td>\n",
       "      <td>-2.114856</td>\n",
       "      <td>-0.216331</td>\n",
       "    </tr>\n",
       "  </tbody>\n",
       "</table>\n",
       "</div>"
      ],
      "text/plain": [
       "           index         W         X         Y         Z\n",
       "novo_index                                              \n",
       "AA             A  0.349107  0.240011 -0.466053 -0.399843\n",
       "BB             B  0.648228  1.140957  0.691442  0.140729\n",
       "CC             C  2.296592  1.493367 -0.637009  0.126544\n",
       "DD             D -0.944324 -0.253151  0.556806 -0.483362\n",
       "EE             E  0.341513 -1.217122 -2.114856 -0.216331"
      ]
     },
     "execution_count": 55,
     "metadata": {},
     "output_type": "execute_result"
    }
   ],
   "source": [
    "df.reset_index().set_index(\"novo_index\") # Transformando ela no index sem apagar o original"
   ]
  },
  {
   "cell_type": "code",
   "execution_count": null,
   "id": "e31641f2-a32f-4afc-a8db-9bb9e0e051f5",
   "metadata": {},
   "outputs": [],
   "source": []
  }
 ],
 "metadata": {
  "kernelspec": {
   "display_name": "Python 3 (ipykernel)",
   "language": "python",
   "name": "python3"
  },
  "language_info": {
   "codemirror_mode": {
    "name": "ipython",
    "version": 3
   },
   "file_extension": ".py",
   "mimetype": "text/x-python",
   "name": "python",
   "nbconvert_exporter": "python",
   "pygments_lexer": "ipython3",
   "version": "3.12.4"
  }
 },
 "nbformat": 4,
 "nbformat_minor": 5
}
