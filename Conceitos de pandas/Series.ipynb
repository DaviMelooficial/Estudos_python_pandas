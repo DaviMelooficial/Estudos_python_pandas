{
 "cells": [
  {
   "cell_type": "markdown",
   "id": "d86832c7-42b8-4e2f-a79b-78742d81c314",
   "metadata": {},
   "source": [
    "## Series são as colunas de uma tabela e as tabelas são as data frames"
   ]
  },
  {
   "cell_type": "code",
   "execution_count": 7,
   "id": "80774e8a-1413-4061-ad2e-2b03e0be16f0",
   "metadata": {},
   "outputs": [],
   "source": [
    "import pandas as pd\n",
    "import numpy as np"
   ]
  },
  {
   "cell_type": "code",
   "execution_count": 11,
   "id": "07962626-2d06-4270-bc94-e8c60a87fa02",
   "metadata": {},
   "outputs": [],
   "source": [
    "lista = [1 , 2, 3]\n",
    "lista_str = [\"A\", \"B\", \"C\"]\n",
    "array = np.array([10, 20, 30])\n",
    "dict = {\"a\": 1, \"b\": 2, \"c\": 3}"
   ]
  },
  {
   "cell_type": "markdown",
   "id": "8ee810db-21e2-4030-bb23-6a783a4443c6",
   "metadata": {},
   "source": [
    "## O Series organiza os dados informados em colunas, atribuindo os índices(linhas) se não forem informados\n"
   ]
  },
  {
   "cell_type": "code",
   "execution_count": 15,
   "id": "912491e2-8dc9-4a16-b0ee-bdb612277f12",
   "metadata": {},
   "outputs": [
    {
     "data": {
      "text/plain": [
       "0    1\n",
       "1    2\n",
       "2    3\n",
       "dtype: int64"
      ]
     },
     "execution_count": 15,
     "metadata": {},
     "output_type": "execute_result"
    }
   ],
   "source": [
    "pd.Series(lista)"
   ]
  },
  {
   "cell_type": "code",
   "execution_count": 18,
   "id": "cac021c2-f8a1-4961-9b4d-a03691db055a",
   "metadata": {},
   "outputs": [
    {
     "data": {
      "text/plain": [
       "0    A\n",
       "1    B\n",
       "2    C\n",
       "dtype: object"
      ]
     },
     "execution_count": 18,
     "metadata": {},
     "output_type": "execute_result"
    }
   ],
   "source": [
    "pd.Series(lista_str)"
   ]
  },
  {
   "cell_type": "code",
   "execution_count": 22,
   "id": "96c40549-ecf8-4975-90f5-f68f2b07534c",
   "metadata": {},
   "outputs": [
    {
     "data": {
      "text/plain": [
       "A    1\n",
       "B    2\n",
       "C    3\n",
       "dtype: int64"
      ]
     },
     "execution_count": 22,
     "metadata": {},
     "output_type": "execute_result"
    }
   ],
   "source": [
    "pd.Series(data=lista, index=lista_str) #Dessa forma foi atribuido uma lista com os valores e uma lista para índice"
   ]
  },
  {
   "cell_type": "code",
   "execution_count": 26,
   "id": "41f391e5-5566-411e-8f98-7b72b0e50223",
   "metadata": {},
   "outputs": [
    {
     "data": {
      "text/plain": [
       "a    1\n",
       "b    2\n",
       "c    3\n",
       "dtype: int64"
      ]
     },
     "execution_count": 26,
     "metadata": {},
     "output_type": "execute_result"
    }
   ],
   "source": [
    "pd.Series(dict) #Dicionarios são automaticamente atribuidos keys como índice e values como series"
   ]
  },
  {
   "cell_type": "markdown",
   "id": "dd2a6b4c-f43f-41fe-8285-4df737d4d701",
   "metadata": {},
   "source": [
    "## Selecionando e somando Series"
   ]
  },
  {
   "cell_type": "code",
   "execution_count": 32,
   "id": "fcf3c9e5-e169-4d05-a389-f71ebdb752bb",
   "metadata": {},
   "outputs": [
    {
     "data": {
      "text/plain": [
       "Brasil    1\n",
       "EUA       2\n",
       "Japão     3\n",
       "dtype: int64"
      ]
     },
     "execution_count": 32,
     "metadata": {},
     "output_type": "execute_result"
    }
   ],
   "source": [
    "serie_1 = pd.Series(lista, index=[\"Brasil\",\"EUA\",\"Japão\"])\n",
    "serie_1"
   ]
  },
  {
   "cell_type": "code",
   "execution_count": 36,
   "id": "87563683-da95-47b2-93b9-3263b69f0937",
   "metadata": {},
   "outputs": [
    {
     "data": {
      "text/plain": [
       "Brasil    10\n",
       "EUA       20\n",
       "China     30\n",
       "dtype: int32"
      ]
     },
     "execution_count": 36,
     "metadata": {},
     "output_type": "execute_result"
    }
   ],
   "source": [
    "serie_2 = pd.Series(array, index=[\"Brasil\",\"EUA\",\"China\"])\n",
    "serie_2"
   ]
  },
  {
   "cell_type": "code",
   "execution_count": 48,
   "id": "24fcd0de-e981-435e-a51d-eac21d4552f1",
   "metadata": {},
   "outputs": [
    {
     "data": {
      "text/plain": [
       "Brasil    1\n",
       "EUA       2\n",
       "dtype: int64"
      ]
     },
     "execution_count": 48,
     "metadata": {},
     "output_type": "execute_result"
    }
   ],
   "source": [
    "serie_1[['Brasil', 'EUA']] #Acessando um índice da Series"
   ]
  },
  {
   "cell_type": "code",
   "execution_count": 54,
   "id": "82d21660-6614-4392-be97-a8d0d9f1c6b8",
   "metadata": {},
   "outputs": [
    {
     "data": {
      "text/plain": [
       "Brasil    11.0\n",
       "China      NaN\n",
       "EUA       22.0\n",
       "Japão      NaN\n",
       "dtype: float64"
      ]
     },
     "execution_count": 54,
     "metadata": {},
     "output_type": "execute_result"
    }
   ],
   "source": [
    "serie_1 + serie_2 #São somados somente os valores cujos índices são correspondentes o resto retorna NaN"
   ]
  },
  {
   "cell_type": "code",
   "execution_count": null,
   "id": "f3945d05-b2cf-493e-897f-da036279aa06",
   "metadata": {},
   "outputs": [],
   "source": []
  }
 ],
 "metadata": {
  "kernelspec": {
   "display_name": "Python 3 (ipykernel)",
   "language": "python",
   "name": "python3"
  },
  "language_info": {
   "codemirror_mode": {
    "name": "ipython",
    "version": 3
   },
   "file_extension": ".py",
   "mimetype": "text/x-python",
   "name": "python",
   "nbconvert_exporter": "python",
   "pygments_lexer": "ipython3",
   "version": "3.12.4"
  }
 },
 "nbformat": 4,
 "nbformat_minor": 5
}
